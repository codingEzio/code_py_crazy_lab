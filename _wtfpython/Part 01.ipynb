{
 "cells": [
  {
   "cell_type": "markdown",
   "metadata": {},
   "source": [
    "### reusing objects "
   ]
  },
  {
   "cell_type": "code",
   "execution_count": 16,
   "metadata": {},
   "outputs": [
    {
     "data": {
      "text/plain": [
       "4545783856"
      ]
     },
     "execution_count": 16,
     "metadata": {},
     "output_type": "execute_result"
    },
    {
     "data": {
      "text/plain": [
       "4545785776"
      ]
     },
     "execution_count": 16,
     "metadata": {},
     "output_type": "execute_result"
    }
   ],
   "source": [
    "# implementation sort of thing \n",
    "#   i.e. saving memory by using existing objects \n",
    "\n",
    "h = \"hi_babe\"\n",
    "\n",
    "id(h)\n",
    "id(\"hi\" + \"_\" + \"babe\")  # rules down below still applied!"
   ]
  },
  {
   "cell_type": "markdown",
   "metadata": {},
   "source": [
    "what kind of strings will be **interned**"
   ]
  },
  {
   "cell_type": "code",
   "execution_count": 21,
   "metadata": {},
   "outputs": [
    {
     "name": "stdout",
     "output_type": "stream",
     "text": [
      "True\n",
      "True\n",
      "True\n",
      "True\n"
     ]
    }
   ],
   "source": [
    "def _zero_or_one(aha):\n",
    "    '''\n",
    "        0, 1   definitely interned \n",
    "        >= 1   that depends \n",
    "    '''\n",
    "    \n",
    "    w = aha\n",
    "    x = aha \n",
    "    print(w is x)\n",
    "\n",
    "_zero_or_one('')   # for sure \n",
    "\n",
    "_zero_or_one('a')  # make sense \n",
    "_zero_or_one('_')  # still make sense \n",
    "_zero_or_one('!')  # yep"
   ]
  },
  {
   "cell_type": "code",
   "execution_count": 43,
   "metadata": {},
   "outputs": [
    {
     "name": "stdout",
     "output_type": "stream",
     "text": [
      "True\n",
      "True\n",
      "False\n",
      "False\n"
     ]
    }
   ],
   "source": [
    "v1 = \"=\"\n",
    "t1 = \"=\" \n",
    "\n",
    "v2 = \"a999_9\"\n",
    "t2 = \"a999_9\" \n",
    "\n",
    "print(v1 is t1) \n",
    "print(v2 is t2) \n",
    "\n",
    "\n",
    "v1 = \"###\"\n",
    "t1 = \"###\" \n",
    "\n",
    "v2 = \"wtf!\"\n",
    "t2 = \"wtf!\" \n",
    "\n",
    "print(v1 is t1) \n",
    "print(v2 is t2) "
   ]
  },
  {
   "cell_type": "code",
   "execution_count": 44,
   "metadata": {},
   "outputs": [
    {
     "data": {
      "text/plain": [
       "True"
      ]
     },
     "execution_count": 44,
     "metadata": {},
     "output_type": "execute_result"
    }
   ],
   "source": [
    "# this DEFINITELY will be allocated the same v-addr-space\n",
    "\n",
    "w, x = \"hi!\", \"hi!\"\n",
    "\n",
    "w is x "
   ]
  },
  {
   "cell_type": "markdown",
   "metadata": {},
   "source": [
    "*peephole* optimization\n",
    "- [Peephole optimization - Wikipedia](https://en.wikipedia.org/wiki/Peephole_optimization)\n",
    "- [cpython/codeobject.c at 3.6 · python/cpython](https://github.com/python/cpython/blob/3.6/Objects/codeobject.c#L19)"
   ]
  },
  {
   "cell_type": "code",
   "execution_count": 56,
   "metadata": {},
   "outputs": [
    {
     "data": {
      "text/plain": [
       "False"
      ]
     },
     "execution_count": 56,
     "metadata": {},
     "output_type": "execute_result"
    },
    {
     "data": {
      "text/plain": [
       "False"
      ]
     },
     "execution_count": 56,
     "metadata": {},
     "output_type": "execute_result"
    }
   ],
   "source": [
    "# simply put,\n",
    "#   it's a techinique for 'peephole optimization'\n",
    "\n",
    "# what the F was that? \n",
    "#   e.g. [a*20] ==> actual 20 'a'\n",
    "#       NOT *   ==> direct 'a' will be much efficient \n",
    "'a' * 2 is 'aaaaaaaaaaaaaaaaaaaaa'\n",
    "'a' * 21 is 'aaaaaaaaaaaaaaaaaaaaa'"
   ]
  },
  {
   "cell_type": "markdown",
   "metadata": {},
   "source": [
    "### https://github.com/satwikkansal/wtfpython#-time-for-some-hash-brownies"
   ]
  }
 ],
 "metadata": {
  "kernelspec": {
   "display_name": "Python 3",
   "language": "python",
   "name": "python3"
  },
  "language_info": {
   "codemirror_mode": {
    "name": "ipython",
    "version": 3
   },
   "file_extension": ".py",
   "mimetype": "text/x-python",
   "name": "python",
   "nbconvert_exporter": "python",
   "pygments_lexer": "ipython3",
   "version": "3.6.5"
  }
 },
 "nbformat": 4,
 "nbformat_minor": 2
}
